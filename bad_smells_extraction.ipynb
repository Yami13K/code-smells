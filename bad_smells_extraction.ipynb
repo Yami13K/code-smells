{
 "cells": [
  {
   "cell_type": "code",
   "execution_count": null,
   "metadata": {
    "colab": {
     "background_save": true
    },
    "id": "L5kShII37vpc"
   },
   "outputs": [],
   "source": [
    "!apt-get install openjdk-11-jdk-headless -qq > /dev/null"
   ]
  },
  {
   "cell_type": "code",
   "execution_count": null,
   "metadata": {
    "colab": {
     "background_save": true,
     "base_uri": "https://localhost:8080/"
    },
    "id": "YnVZqlv_84it",
    "outputId": "3ab79068-6160-4264-d0c5-486699bde983"
   },
   "outputs": [
    {
     "name": "stdout",
     "output_type": "stream",
     "text": [
      "--2023-07-18 06:31:06--  https://www.designite-tools.com/static/download/DJC/DesigniteJava.jar\n",
      "Resolving www.designite-tools.com (www.designite-tools.com)... 206.12.90.239\n",
      "Connecting to www.designite-tools.com (www.designite-tools.com)|206.12.90.239|:443... connected.\n",
      "HTTP request sent, awaiting response... 200 OK\n",
      "Length: 8703871 (8.3M) [application/java-archive]\n",
      "Saving to: ‘DesigniteJava.jar’\n",
      "\n",
      "DesigniteJava.jar   100%[===================>]   8.30M  14.7MB/s    in 0.6s    \n",
      "\n",
      "2023-07-18 06:31:07 (14.7 MB/s) - ‘DesigniteJava.jar’ saved [8703871/8703871]\n",
      "\n"
     ]
    }
   ],
   "source": [
    "!wget https://www.designite-tools.com/static/download/DJC/DesigniteJava.jar"
   ]
  },
  {
   "cell_type": "code",
   "execution_count": null,
   "metadata": {
    "colab": {
     "base_uri": "https://localhost:8080/"
    },
    "id": "qUD1aR9o-zuv",
    "outputId": "5cbcb9f9-8e36-4666-b358-937a7d38a327"
   },
   "outputs": [
    {
     "name": "stdout",
     "output_type": "stream",
     "text": [
      "Cloning into 'spring-framework'...\n",
      "remote: Enumerating objects: 719471, done.\u001B[K\n",
      "remote: Counting objects: 100% (5376/5376), done.\u001B[K\n",
      "remote: Compressing objects: 100% (2415/2415), done.\u001B[K\n",
      "remote: Total 719471 (delta 1901), reused 5172 (delta 1778), pack-reused 714095\u001B[K\n",
      "Receiving objects: 100% (719471/719471), 190.78 MiB | 18.67 MiB/s, done.\n",
      "Resolving deltas: 100% (349232/349232), done.\n",
      "Updating files: 100% (9928/9928), done.\n"
     ]
    }
   ],
   "source": [
    "!git clone https://github.com/spring-projects/spring-framework.git"
   ]
  },
  {
   "cell_type": "code",
   "execution_count": null,
   "metadata": {
    "id": "x1KbjKz39mlA"
   },
   "outputs": [],
   "source": [
    "!mkdir smells/okhttp"
   ]
  },
  {
   "cell_type": "code",
   "execution_count": null,
   "metadata": {
    "colab": {
     "base_uri": "https://localhost:8080/"
    },
    "id": "Mm3yqVK18Vks",
    "outputId": "91c357a5-f81b-4aa6-8c1d-7c0e4a944d17"
   },
   "outputs": [
    {
     "name": "stdout",
     "output_type": "stream",
     "text": [
      "Parsing the source code ...\n",
      "Resolving symbols...\n",
      "Extracting metrics...\n",
      "Extracting code smells...\n",
      "Done.\n"
     ]
    }
   ],
   "source": [
    "!java -jar DesigniteJava.jar -i /content/junit5 -o /content/smells/junit5-smells"
   ]
  },
  {
   "cell_type": "code",
   "execution_count": null,
   "metadata": {
    "colab": {
     "base_uri": "https://localhost:8080/"
    },
    "id": "w8rL7NA0D1Mo",
    "outputId": "e69659bc-4710-45c3-a727-17f4505a3260"
   },
   "outputs": [
    {
     "name": "stdout",
     "output_type": "stream",
     "text": [
      "Error: Unable to access jarfile DesigniteJava.jar\n"
     ]
    }
   ],
   "source": [
    "!java -Xmx10g -jar DesigniteJava.jar -i /content/spring-framework -o /content/drive/MyDrive/smells/spring-smells"
   ]
  },
  {
   "cell_type": "code",
   "execution_count": null,
   "metadata": {
    "colab": {
     "base_uri": "https://localhost:8080/"
    },
    "id": "uMoGT_h-D64P",
    "outputId": "cf21e546-9ccc-4ac8-dada-783823347704"
   },
   "outputs": [
    {
     "name": "stdout",
     "output_type": "stream",
     "text": [
      "Parsing the source code ...\n",
      "Resolving symbols...\n",
      "Extracting metrics...\n",
      "Extracting code smells...\n",
      "Exception while parsing literal number (during Magic Number detection). For input string: \"ffffffffffffffff\"\n",
      "Exception while parsing literal number (during Magic Number detection). For input string: \"ffffffffffffffff\"\n",
      "Exception while parsing literal number (during Magic Number detection). For input string: \"ffeeddccbbaa9988\"\n",
      "Exception while parsing literal number (during Magic Number detection). For input string: \"ffeeddccbbaa9988\"\n",
      "Exception while parsing literal number (during Magic Number detection). For input string: \"ffeeddccbbaa9988\"\n",
      "Exception while parsing literal number (during Magic Number detection). For input string: \"ffffffffffffffff\"\n",
      "Exception while parsing literal number (during Magic Number detection). For input string: \"ffffffffffffffff\"\n",
      "Exception while parsing literal number (during Magic Number detection). For input string: \"ffeeddccbbaa9988\"\n",
      "Exception while parsing literal number (during Magic Number detection). For input string: \"ffeeddccbbaa9988\"\n",
      "Exception while parsing literal number (during Magic Number detection). For input string: \"0777777777777777777777\"\n",
      "Done.\n"
     ]
    }
   ],
   "source": [
    "!java -jar DesigniteJava.jar -i /content/commons-lang -o /content/smells/langs-smells"
   ]
  },
  {
   "cell_type": "code",
   "execution_count": null,
   "metadata": {
    "id": "hAVq_haXEDvj"
   },
   "outputs": [],
   "source": [
    "!java -jar DesigniteJava.jar -i /content/maven -o /content/smells/maven"
   ]
  },
  {
   "cell_type": "code",
   "execution_count": null,
   "metadata": {
    "id": "3pkdL3Yi9iIq"
   },
   "outputs": [],
   "source": [
    "!cp -r /content/smells /content/drive/MyDrive/"
   ]
  },
  {
   "cell_type": "code",
   "execution_count": null,
   "metadata": {
    "id": "HnVLb8c_-XAa"
   },
   "outputs": [],
   "source": [
    "shutil.rmtree('/content/drive/MyDrive/smells')"
   ]
  },
  {
   "cell_type": "code",
   "execution_count": null,
   "metadata": {
    "id": "4mbR5PXO_F5n"
   },
   "outputs": [],
   "source": []
  },
  {
   "cell_type": "markdown",
   "metadata": {
    "id": "QCLd05lMhnTy"
   },
   "source": [
    "#Stacking"
   ]
  }
 ],
 "metadata": {
  "colab": {
   "provenance": []
  },
  "kernelspec": {
   "display_name": "Python 3",
   "name": "python3"
  },
  "language_info": {
   "name": "python"
  }
 },
 "nbformat": 4,
 "nbformat_minor": 0
}
